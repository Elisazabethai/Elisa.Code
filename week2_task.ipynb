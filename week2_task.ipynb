{
  "nbformat": 4,
  "nbformat_minor": 0,
  "metadata": {
    "colab": {
      "provenance": [],
      "authorship_tag": "ABX9TyO/W9gwVqR1pL60NW4cb3bq",
      "include_colab_link": true
    },
    "kernelspec": {
      "name": "python3",
      "display_name": "Python 3"
    },
    "language_info": {
      "name": "python"
    }
  },
  "cells": [
    {
      "cell_type": "markdown",
      "metadata": {
        "id": "view-in-github",
        "colab_type": "text"
      },
      "source": [
        "<a href=\"https://colab.research.google.com/github/Elisazabethai/Elisa.Code/blob/main/week2_task.ipynb\" target=\"_parent\"><img src=\"https://colab.research.google.com/assets/colab-badge.svg\" alt=\"Open In Colab\"/></a>"
      ]
    },
    {
      "cell_type": "code",
      "source": [
        "name=\"elizabeth\"\n",
        "age=23\n",
        "favourite_colour=\"blue\"#favourite_colour is now efined"
      ],
      "metadata": {
        "id": "WA-33T1UWyRx"
      },
      "execution_count": null,
      "outputs": []
    },
    {
      "cell_type": "code",
      "source": [
        "print(name)"
      ],
      "metadata": {
        "colab": {
          "base_uri": "https://localhost:8080/"
        },
        "id": "9e6QYdznXtXQ",
        "outputId": "261f714d-8d30-43b8-e92a-62abc5ea38bc"
      },
      "execution_count": null,
      "outputs": [
        {
          "output_type": "stream",
          "name": "stdout",
          "text": [
            "elizabeth\n"
          ]
        }
      ]
    },
    {
      "cell_type": "code",
      "source": [
        "print(age)"
      ],
      "metadata": {
        "colab": {
          "base_uri": "https://localhost:8080/"
        },
        "id": "8Yl3-gj2X6YK",
        "outputId": "a144442e-4153-4861-9d2a-f2505b33d1e3"
      },
      "execution_count": null,
      "outputs": [
        {
          "output_type": "stream",
          "name": "stdout",
          "text": [
            "23\n"
          ]
        }
      ]
    },
    {
      "cell_type": "code",
      "source": [
        "print(favourite_colour)"
      ],
      "metadata": {
        "colab": {
          "base_uri": "https://localhost:8080/"
        },
        "id": "hXJFoE0dYKeU",
        "outputId": "c97db6f5-0307-4db4-d0d6-f40aa34c5efc"
      },
      "execution_count": null,
      "outputs": [
        {
          "output_type": "stream",
          "name": "stdout",
          "text": [
            "blue\n"
          ]
        }
      ]
    },
    {
      "cell_type": "code",
      "source": [
        "# prompt: print(name,age,favourite_colour)\n",
        "\n",
        "name=\"elizabeth\"\n",
        "age=23\n",
        "favourite_colour=\"blue\"\n",
        "print(name, age, favourite_colour)\n"
      ],
      "metadata": {
        "id": "tW8OrnlAYPyi"
      },
      "execution_count": null,
      "outputs": []
    },
    {
      "cell_type": "code",
      "source": [
        "print(\"elizabeth's age is\",age,\"and her favourite_colour is\",favourite_colour)"
      ],
      "metadata": {
        "colab": {
          "base_uri": "https://localhost:8080/"
        },
        "id": "LkI3pN4Wedu7",
        "outputId": "759e0300-46f0-485a-a641-92a5b36a0258"
      },
      "execution_count": null,
      "outputs": [
        {
          "output_type": "stream",
          "name": "stdout",
          "text": [
            "elizabeth's age is 23 and her favourite_colour is blue\n"
          ]
        }
      ]
    },
    {
      "cell_type": "code",
      "source": [
        "print(\"hello my name is\",name,\"and my age is\",age,\"and my  favourite_colour is\",favourite_colour)"
      ],
      "metadata": {
        "colab": {
          "base_uri": "https://localhost:8080/"
        },
        "id": "wdIU8UEIfzKv",
        "outputId": "5975080b-c48b-4203-edb3-ec5a879fb174"
      },
      "execution_count": null,
      "outputs": [
        {
          "output_type": "stream",
          "name": "stdout",
          "text": [
            "hello my name is elizabeth and my age is 23 and my  favourite_colouris blue\n"
          ]
        }
      ]
    },
    {
      "cell_type": "code",
      "source": [
        "print(\"hi ,name, it's great to know that your favourite_colour is,favourtite_colour\")"
      ],
      "metadata": {
        "colab": {
          "base_uri": "https://localhost:8080/"
        },
        "id": "qs44xXhisWPS",
        "outputId": "db1a61b9-5556-4e27-eaa9-83d75ec02afb"
      },
      "execution_count": null,
      "outputs": [
        {
          "output_type": "stream",
          "name": "stdout",
          "text": [
            "hi ,name, it's great to know that your favourite_colour is,favourtite_colour\n"
          ]
        }
      ]
    },
    {
      "cell_type": "code",
      "source": [
        "age=30\n",
        "age=age+5\n",
        "print(age)"
      ],
      "metadata": {
        "colab": {
          "base_uri": "https://localhost:8080/"
        },
        "id": "J6uS4DOh2epg",
        "outputId": "a3f618e8-ec07-4a93-fc5c-d84b65323213"
      },
      "execution_count": null,
      "outputs": [
        {
          "output_type": "stream",
          "name": "stdout",
          "text": [
            "35\n"
          ]
        }
      ]
    },
    {
      "cell_type": "code",
      "source": [
        "current_age=23\n",
        "birth_year=2001\n",
        "current_year=2025\n",
        "age=current_year-birth_year\n",
        "print(age)\n"
      ],
      "metadata": {
        "colab": {
          "base_uri": "https://localhost:8080/"
        },
        "id": "WzPVgsdz5a34",
        "outputId": "30860e66-d6e7-43b6-de3a-bfeedb8546b0"
      },
      "execution_count": null,
      "outputs": [
        {
          "output_type": "stream",
          "name": "stdout",
          "text": [
            "24\n"
          ]
        }
      ]
    },
    {
      "cell_type": "code",
      "source": [
        "favourite_colour=\"red\"\n",
        "name=\"pookie\"\n",
        "age=21\n",
        "hooby=\"dancing\"\n",
        "favourite_food=\"waffles\"\n",
        "favourite_song=\"honaiwo\""
      ],
      "metadata": {
        "id": "55CksUP3GpqI"
      },
      "execution_count": null,
      "outputs": []
    },
    {
      "cell_type": "markdown",
      "source": [],
      "metadata": {
        "id": "v7ODoglgTFP_"
      }
    },
    {
      "cell_type": "code",
      "source": [],
      "metadata": {
        "id": "5IDztrelX_p_"
      },
      "execution_count": null,
      "outputs": []
    },
    {
      "cell_type": "code",
      "source": [
        "print(\"hello my friend's name is\",name,\"and her hobby is\",hooby,\"and her age is\",age,\"and her favourite_food is\",favourite_food,\"and her favourite_song is\",favourite_song,)\n"
      ],
      "metadata": {
        "colab": {
          "base_uri": "https://localhost:8080/"
        },
        "id": "oDXlEL3WQ415",
        "outputId": "be199128-8854-4158-9d59-f172ed4128d4"
      },
      "execution_count": null,
      "outputs": [
        {
          "output_type": "stream",
          "name": "stdout",
          "text": [
            "hello my friend's name is pookie and her hobby is dancing and her age is 21 and her favourite_food is waffles and her favourite_song is honaiwo\n"
          ]
        }
      ]
    },
    {
      "cell_type": "code",
      "source": [
        "print(\"hello world\")"
      ],
      "metadata": {
        "colab": {
          "base_uri": "https://localhost:8080/"
        },
        "id": "fGt0FyKl4Ll_",
        "outputId": "b0d9f6f7-bbef-4615-f277-d8fec0b15ed9"
      },
      "execution_count": null,
      "outputs": [
        {
          "output_type": "stream",
          "name": "stdout",
          "text": [
            "hello world\n"
          ]
        }
      ]
    },
    {
      "cell_type": "code",
      "source": [
        "print(\"Hello, World!\")"
      ],
      "metadata": {
        "colab": {
          "base_uri": "https://localhost:8080/"
        },
        "id": "jJQCgFAL5JDa",
        "outputId": "013d97d6-cbef-4d5c-c2e9-297dc2dc4b1e"
      },
      "execution_count": null,
      "outputs": [
        {
          "output_type": "stream",
          "name": "stdout",
          "text": [
            "Hello, World!\n"
          ]
        }
      ]
    },
    {
      "cell_type": "code",
      "source": [],
      "metadata": {
        "id": "0uadJ7gBogKs"
      },
      "execution_count": null,
      "outputs": []
    },
    {
      "cell_type": "code",
      "source": [
        "print(\"Coding is exciting\")"
      ],
      "metadata": {
        "colab": {
          "base_uri": "https://localhost:8080/"
        },
        "id": "q1wO5kJx7PSw",
        "outputId": "0a447184-31ad-4a59-88f2-14547e668230"
      },
      "execution_count": null,
      "outputs": [
        {
          "output_type": "stream",
          "name": "stdout",
          "text": [
            "Coding is exciting\n"
          ]
        }
      ]
    },
    {
      "cell_type": "code",
      "source": [
        "# @title Default title text\n",
        "number=int(input(\"entter number\"))\n",
        "if number>100:\n",
        "  print(\"high\")\n",
        "elif number>100:\n",
        "  print(\"low\")\n",
        "else:\n",
        "  print(\"number medium\")"
      ],
      "metadata": {
        "colab": {
          "base_uri": "https://localhost:8080/"
        },
        "id": "7LtsfmfwfRUs",
        "outputId": "2e8428be-f61f-4888-b3b1-bf9a47e70aea"
      },
      "execution_count": null,
      "outputs": [
        {
          "output_type": "stream",
          "name": "stdout",
          "text": [
            "entter number45\n",
            "number medium\n"
          ]
        }
      ]
    },
    {
      "cell_type": "code",
      "source": [],
      "metadata": {
        "id": "UwtC01FkyIW0"
      },
      "execution_count": null,
      "outputs": []
    },
    {
      "cell_type": "code",
      "source": [
        "\n",
        "temperature =int(input(\"enter the current:\"))\n",
        "if temperature < 15:\n",
        "  print(\"it's quite cold today . stay warm!\")\n",
        "elif temperature < 25:\n",
        "    print(\"The weather is pleasent today.\")\n",
        "else:\n",
        "      print (\"it's hot today.keep cool\")\n",
        "      print (\"it's hot today.keep cool\")\n"
      ],
      "metadata": {
        "colab": {
          "base_uri": "https://localhost:8080/"
        },
        "id": "uiVp0L8SsvGv",
        "outputId": "49e1b8e5-7c5a-4247-e421-37a26e5d443a"
      },
      "execution_count": null,
      "outputs": [
        {
          "output_type": "stream",
          "name": "stdout",
          "text": [
            "enter the current:12\n",
            "it's quite cold today . stay warm!\n"
          ]
        }
      ]
    },
    {
      "cell_type": "code",
      "source": [
        "temperature =int(input(\"enter the current temperature:\"))\n",
        "is_raining=input(\"is it raining?(yes/no):\").lower()\n",
        "is_windy=input(\"is it windy?(yes/no):\").lower()\n",
        "\n",
        "if temperature<15 and is_raining ==\"yes\" and is_windy==\"yes\":\n",
        "  print(\"it's quite cold today. stay warm!\")\n",
        "  print(\"it's raining dont! forget your umberella.\")\n",
        "  print(\"it's also windy, so be prepared for gust.\")\n",
        "\n",
        "elif temperature<25 and is_windy==\"yes\" and is_raining==\"no\":\n",
        "     print(\"the weather is pleasent today.\")\n",
        "    print(\"there is a bit of wind too.\")\n",
        "    else:\n",
        "\n",
        "    print(\"it's hot. keep cool!\")\n",
        "      print(\"at least the rain might offer some relief.\")\n",
        "      print(\"hopefully , the wind will help keep things cool.\")\n",
        "\n"
      ],
      "metadata": {
        "colab": {
          "base_uri": "https://localhost:8080/",
          "height": 106
        },
        "id": "yebvqFqVsvDY",
        "outputId": "2c9f009c-7636-41b2-8335-20b3c91e9691"
      },
      "execution_count": null,
      "outputs": [
        {
          "output_type": "error",
          "ename": "IndentationError",
          "evalue": "unindent does not match any outer indentation level (<tokenize>, line 12)",
          "traceback": [
            "\u001b[0;36m  File \u001b[0;32m\"<tokenize>\"\u001b[0;36m, line \u001b[0;32m12\u001b[0m\n\u001b[0;31m    print(\"there is a bit of wind too.\")\u001b[0m\n\u001b[0m    ^\u001b[0m\n\u001b[0;31mIndentationError\u001b[0m\u001b[0;31m:\u001b[0m unindent does not match any outer indentation level\n"
          ]
        }
      ]
    },
    {
      "cell_type": "code",
      "source": [
        "print( \"menu:\")\n",
        "print(\"1. show greeting\")\n",
        "print(\"2. display farewell\")\n",
        "print(\"3. show current time\")\n",
        "print(\"4. display a random number\")\n",
        "choice=input(\"enter your choice (1,2,3,4):\")\n",
        "print( \"menu:\")\n",
        "print(\"1. show greeting\")\n",
        "print(\"2. display farewell\")\n",
        "print(\"3. show current time\")\n",
        "print(\"4. display a random number\")\n",
        "choice=input(\"enter your choice (1,2,3,4):\")\n",
        "if choice==\"1\":\n",
        "  print(\"Hello! welcome to our program.\")\n",
        "elif choice==\"2\" or choice==\"3\":\n",
        "  print(\"menue\")\n",
        "print(\"1. show greeting\")\n",
        "print(\"2. display farewell\")\n",
        "print(\"3. show current time\")\n",
        "print(\"4. display a random number\")\n",
        "choice=input(\"enter your choice (1,2,3,4):\")\n",
        "print( \"menu:\")\n",
        "print(\"1. show greeting\")\n",
        "print(\"2. display farewell\")\n",
        "print(\"3. show current time\")\n",
        "print(\"4. display a random number\")\n",
        "choice=input(\"enter your choice (1,2,3,4):\")\n",
        "if choice==\"1\":\n",
        "  print(\"Hello! welcome to our program.\")\n",
        "elif choice==\"2\" or choice==\"3\":\n",
        "  print(\"datetime\")\n",
        "  print(\"Goodbye! have a nice day.\")\n",
        "else:\n",
        "    print(\"invalid try again\")\n",
        "\n"
      ],
      "metadata": {
        "colab": {
          "base_uri": "https://localhost:8080/"
        },
        "id": "OvIKJdCi5RTh",
        "outputId": "0c88ea6b-9232-4b24-cd71-5f00cf0e667f"
      },
      "execution_count": null,
      "outputs": [
        {
          "output_type": "stream",
          "name": "stdout",
          "text": [
            "menu:\n",
            "1. show greeting\n",
            "2. display farewell\n",
            "3. show current time\n",
            "4. display a random number\n",
            "enter your choice (1,2,3,4):4\n",
            "menu:\n",
            "1. show greeting\n",
            "2. display farewell\n",
            "3. show current time\n",
            "4. display a random number\n",
            "enter your choice (1,2,3,4):2\n",
            "menue\n",
            "1. show greeting\n",
            "2. display farewell\n",
            "3. show current time\n",
            "4. display a random number\n",
            "enter your choice (1,2,3,4):1\n",
            "menu:\n",
            "1. show greeting\n",
            "2. display farewell\n",
            "3. show current time\n",
            "4. display a random number\n",
            "enter your choice (1,2,3,4):3\n",
            "datetime\n",
            "Goodbye! have a nice day.\n"
          ]
        }
      ]
    },
    {
      "cell_type": "code",
      "source": [
        "# prompt:\n",
        "\n",
        "name=\"elizabeth\"\n",
        "age=23\n",
        "favourite_colour=\"blue\" #favourite_colour is now defined\n",
        "print(name)\n",
        "print(age)\n",
        "print(favourite_colour)\n",
        "\n",
        "name=\"elizabeth\"\n",
        "age=23\n",
        "favourite_colour=\"blue\"\n",
        "print(name, age, favourite_colour)\n",
        "\n",
        "print(\"elizabeth's age is\",age,\"and her favourite_colour is\",favourite_colour)\n",
        "print(\"hello my name is\",name,\"and my age is\",age,\"and my  favourite_colour is\",favourite_colour)\n",
        "print(\"hi ,name, it's great to know that your favourite_colour is,favourtite_colour\") #Typo in variable name\n",
        "age=30\n",
        "age=age+5\n",
        "print(age)\n",
        "current_age=23\n",
        "birth_year=2001\n",
        "current_year=2025\n",
        "age=current_year-birth_year\n",
        "print(age)\n",
        "\n",
        "favourite_colour=\"red\"\n",
        "name=\"pookie\"\n",
        "age=21\n",
        "hobby=\"dancing\" #Corrected typo\n",
        "favourite_food=\"waffles\"\n",
        "favourite_song=\"honaiwo\"\n",
        "#\n",
        "print(\"hello my friend's name is\",name,\"and her hobby is\",hobby,\"and her age is\",age,\"and her favourite_food is\",favourite_food,\"and her favourite_song is\",favourite_song,)\n",
        "\n",
        "print(\"hello world\")\n",
        "print(\"Hello, World!\")\n",
        "print(\"Coding is exciting\")\n",
        "# @title Default title text\n",
        "number=int(input(\"enter number: \")) #Added a colon and prompt for clarity\n",
        "if number>100:\n",
        "  print(\"high\")\n",
        "elif number<100: #Changed the condition to <100\n",
        "  print(\"low\")\n",
        "else:\n",
        "  print(\"number medium\")\n",
        "\n",
        "temperature =int(input(\"enter the current temperature: \")) #Added a colon and prompt\n",
        "if temperature < 15:\n",
        "  print(\"it's quite cold today . stay warm!\")\n",
        "elif temperature < 25:\n",
        "    print(\"The weather is pleasant today.\")\n",
        "else:\n",
        "      print (\"it's hot today. keep cool\")\n",
        "\n",
        "\n",
        "temperature =int(input(\"enter the current temperature: \")) #Added a colon and prompt\n",
        "is_raining=input(\"is it raining?(yes/no): \").lower()  #Added space after colon\n",
        "is_windy=input(\"is it windy?(yes/no): \").lower() #Added space after colon\n",
        "\n",
        "if temperature<15 and is_raining ==\"yes\" and is_windy==\"yes\":\n",
        "  print(\"it's quite cold today. stay warm!\")\n",
        "  print(\"it's raining, don't forget your umbrella.\") #Corrected grammar\n",
        "  print(\"it's also windy, so be prepared for gusts.\") #Corrected grammar\n",
        "\n",
        "elif temperature<25 and is_windy==\"yes\" and is_raining==\"no\":\n",
        "     print(\"the weather is pleasant today.\")\n",
        "     print(\"there is a bit of wind too.\")\n",
        "else: #Added an else block to complete the if-elif statement.\n",
        "    print(\"it's hot. keep cool!\")\n",
        "    print(\"at least the rain might offer some relief.\")\n",
        "    print(\"hopefully , the wind will help keep things cool.\")\n",
        "\n",
        "\n",
        "print( \"menu:\")\n",
        "print(\"1. show greeting\")\n",
        "print(\"2. display farewell\")\n",
        "print(\"3. show current time\")\n",
        "print(\"4. display a random number\")\n",
        "choice=input(\"enter your choice (1,2,3,4): \") #Added space after colon\n",
        "\n",
        "if choice==\"1\":\n",
        "  print(\"Hello! welcome to our program.\")\n",
        "elif choice==\"2\":\n",
        "  print(\"Goodbye! have a nice day.\")\n",
        "elif choice==\"3\":\n",
        "  import datetime\n",
        "  now = datetime.datetime.now()\n",
        "  print(\"Current time:\", now.strftime(\"%Y-%m-%d %H:%M:%S\"))\n",
        "elif choice==\"4\":\n",
        "  import random\n",
        "  print(\"Random number:\", random.randint(1,100)) #Added random number generation\n",
        "else:\n",
        "    print(\"invalid choice. try again\")\n"
      ],
      "metadata": {
        "id": "_678Jv2g779s"
      },
      "execution_count": null,
      "outputs": []
    },
    {
      "cell_type": "code",
      "source": [],
      "metadata": {
        "id": "B8z4syk2erJL"
      },
      "execution_count": null,
      "outputs": []
    },
    {
      "cell_type": "code",
      "source": [
        "name= \"elizabeth\"\n",
        "print(\"name\")"
      ],
      "metadata": {
        "colab": {
          "base_uri": "https://localhost:8080/"
        },
        "id": "DhQW14D-gKfP",
        "outputId": "ce9fa8bb-4aa8-4609-b022-20d3c545664c"
      },
      "execution_count": null,
      "outputs": [
        {
          "output_type": "stream",
          "name": "stdout",
          "text": [
            "name\n"
          ]
        }
      ]
    },
    {
      "cell_type": "code",
      "source": [
        "def greet():\n",
        "  name=(\"enter your name\")\n",
        "  print(\"hello ,name\")\n",
        "  greet()\n"
      ],
      "metadata": {
        "id": "z5dOospffR7l"
      },
      "execution_count": null,
      "outputs": []
    },
    {
      "cell_type": "code",
      "source": [
        "def add_numbers(a,b):\n",
        "\n",
        "  print(\"the sum is , result\")\n",
        "add_numbers(5,3)\n",
        "\n",
        "\n"
      ],
      "metadata": {
        "colab": {
          "base_uri": "https://localhost:8080/"
        },
        "id": "_qPokBoyheTt",
        "outputId": "eb64268e-fc5f-47ef-9418-101be9177089"
      },
      "execution_count": null,
      "outputs": [
        {
          "output_type": "stream",
          "name": "stdout",
          "text": [
            "the sum is , result\n"
          ]
        }
      ]
    },
    {
      "cell_type": "code",
      "source": [
        "#describing the function\n",
        "def describe_person(name,age=18):\n",
        "  print(name +\"is\"+str(age)+\"years old\")\n",
        "\n",
        "  #calling the function\n",
        "describe_person(\"Alice\",25)\n",
        "describe_person(\"Bob\")\n",
        "\n"
      ],
      "metadata": {
        "colab": {
          "base_uri": "https://localhost:8080/"
        },
        "id": "7mXUHCDwinzL",
        "outputId": "86df98d1-588d-4e75-f760-4e1e70c476e7"
      },
      "execution_count": null,
      "outputs": [
        {
          "output_type": "stream",
          "name": "stdout",
          "text": [
            "Aliceis25years old\n",
            "Bobis18years old\n"
          ]
        }
      ]
    },
    {
      "cell_type": "code",
      "source": [
        "def calculate_area(radius):\n",
        "  area = 3.14 * radius * radius\n",
        "  return area\n",
        "result = calculate_area(3)\n",
        "print(\"the radius is\", result)\n",
        "\n"
      ],
      "metadata": {
        "colab": {
          "base_uri": "https://localhost:8080/"
        },
        "id": "DDhgXRM_yKZH",
        "outputId": "ccdd369f-e23f-4b4d-e200-e2e86e0cea30"
      },
      "execution_count": null,
      "outputs": [
        {
          "output_type": "stream",
          "name": "stdout",
          "text": [
            "the radius is 28.259999999999998\n"
          ]
        }
      ]
    },
    {
      "cell_type": "code",
      "source": [
        "from datetime import datetime\n",
        "now=datetime.now()\n",
        "print(\"date\", now.date())\n",
        "print(\"time\", now.time())\n"
      ],
      "metadata": {
        "colab": {
          "base_uri": "https://localhost:8080/"
        },
        "id": "dCH2N_Tn1Ibf",
        "outputId": "112d7fb1-b5c9-451d-8953-3a7f467e0ce3"
      },
      "execution_count": null,
      "outputs": [
        {
          "output_type": "stream",
          "name": "stdout",
          "text": [
            "date 2025-03-20\n",
            "time 09:17:23.081032\n"
          ]
        }
      ]
    },
    {
      "cell_type": "code",
      "source": [
        "from datetime import datetime\n",
        "now=datetime.now()\n",
        "print(now.strftime(\"%m/%d/%y\"))\n",
        "\n"
      ],
      "metadata": {
        "colab": {
          "base_uri": "https://localhost:8080/"
        },
        "id": "a-bZ9OiE7v8s",
        "outputId": "b5d6914d-06b8-4e24-be58-8c0022a87796"
      },
      "execution_count": null,
      "outputs": [
        {
          "output_type": "stream",
          "name": "stdout",
          "text": [
            "03/20/25\n"
          ]
        }
      ]
    },
    {
      "cell_type": "code",
      "source": [
        "pip install pyinputplus"
      ],
      "metadata": {
        "colab": {
          "base_uri": "https://localhost:8080/"
        },
        "id": "aG8ARR3MF-VY",
        "outputId": "4c0e5526-0c78-4e69-adaf-e5d104d92ad3"
      },
      "execution_count": null,
      "outputs": [
        {
          "output_type": "stream",
          "name": "stdout",
          "text": [
            "Collecting pyinputplus\n",
            "  Downloading PyInputPlus-0.2.12.tar.gz (20 kB)\n",
            "  Installing build dependencies ... \u001b[?25l\u001b[?25hdone\n",
            "  Getting requirements to build wheel ... \u001b[?25l\u001b[?25hdone\n",
            "  Preparing metadata (pyproject.toml) ... \u001b[?25l\u001b[?25hdone\n",
            "Collecting pysimplevalidate>=0.2.7 (from pyinputplus)\n",
            "  Downloading PySimpleValidate-0.2.12.tar.gz (22 kB)\n",
            "  Installing build dependencies ... \u001b[?25l\u001b[?25hdone\n",
            "  Getting requirements to build wheel ... \u001b[?25l\u001b[?25hdone\n",
            "  Preparing metadata (pyproject.toml) ... \u001b[?25l\u001b[?25hdone\n",
            "Collecting stdiomask>=0.0.3 (from pyinputplus)\n",
            "  Downloading stdiomask-0.0.6.tar.gz (3.6 kB)\n",
            "  Installing build dependencies ... \u001b[?25l\u001b[?25hdone\n",
            "  Getting requirements to build wheel ... \u001b[?25l\u001b[?25hdone\n",
            "  Preparing metadata (pyproject.toml) ... \u001b[?25l\u001b[?25hdone\n",
            "Building wheels for collected packages: pyinputplus, pysimplevalidate, stdiomask\n",
            "  Building wheel for pyinputplus (pyproject.toml) ... \u001b[?25l\u001b[?25hdone\n",
            "  Created wheel for pyinputplus: filename=pyinputplus-0.2.12-py3-none-any.whl size=11349 sha256=86e4d01c7b1f076e17556330738f0675c6053a359955862f38a0dfcd82ba6ec6\n",
            "  Stored in directory: /root/.cache/pip/wheels/a3/6b/89/3bec14288af8e0729d088fb41a785e583d49e772f2529c7676\n",
            "  Building wheel for pysimplevalidate (pyproject.toml) ... \u001b[?25l\u001b[?25hdone\n",
            "  Created wheel for pysimplevalidate: filename=pysimplevalidate-0.2.12-py3-none-any.whl size=16225 sha256=ced3f5ce22731bb8cfa665aea6435b77d4d618b28f164a7f576e7d8c8393eddc\n",
            "  Stored in directory: /root/.cache/pip/wheels/fc/40/7a/4d3b2dc2e80b4b3bbda89eec94fcefd6c8bd1101cc7bb89554\n",
            "  Building wheel for stdiomask (pyproject.toml) ... \u001b[?25l\u001b[?25hdone\n",
            "  Created wheel for stdiomask: filename=stdiomask-0.0.6-py3-none-any.whl size=3357 sha256=5f2235709f5dcc4464fd7f2e8b7c1ec2db94867fa06d9f66c005db69933d9ebf\n",
            "  Stored in directory: /root/.cache/pip/wheels/19/0c/90/5ee0da7cf06ff7e233f273063797785d5eabf0ab9f04220866\n",
            "Successfully built pyinputplus pysimplevalidate stdiomask\n",
            "Installing collected packages: stdiomask, pysimplevalidate, pyinputplus\n",
            "Successfully installed pyinputplus-0.2.12 pysimplevalidate-0.2.12 stdiomask-0.0.6\n"
          ]
        }
      ]
    },
    {
      "cell_type": "code",
      "source": [
        "Students=[\"Elisa\",\"Prince\",\"Patty\"]\n",
        "first_student=Students[0]\n",
        "second_student=Students[1]\n",
        "last_student=Students[2]\n",
        "print (first_student)\n",
        "Students.insert(0,\"Pride\")\n",
        "print(Students)\n",
        "Students[0]=2\n",
        "length=len(Students)\n",
        "has_Pardon=\"Pardon\" in Students\n",
        "print(has_Pardon)\n",
        "print(length)\n",
        "print(Students\n"
      ],
      "metadata": {
        "colab": {
          "base_uri": "https://localhost:8080/"
        },
        "id": "9gLB09JeiEcG",
        "outputId": "0e67b7f7-8cd0-41fc-aac0-80d9ed5d5680"
      },
      "execution_count": null,
      "outputs": [
        {
          "output_type": "stream",
          "name": "stdout",
          "text": [
            "Elisa\n",
            "['Pride', 'Elisa', 'Prince', 'Patty']\n",
            "False\n",
            "4\n",
            "[2, 'Elisa', 'Prince', 'Patty']\n"
          ]
        }
      ]
    },
    {
      "cell_type": "code",
      "source": [
        "my_dict={}\n",
        "person={\"name\":\"Elisa\",\"age\": 23,\"city\":\"Sydney\"}\n",
        "print(person[\"name\"])\n",
        "print(person[\"age\"])\n",
        "person[\"occupation\"]=\"Student\"\n",
        "print(person)\n",
        "occupation=person.pop(\"occupation\",\"Not found\")\n",
        "print(occupation)"
      ],
      "metadata": {
        "colab": {
          "base_uri": "https://localhost:8080/"
        },
        "id": "UdkIOA5gnkAi",
        "outputId": "4fe0a1b4-41f0-4009-fce5-6f0769fd4dbc"
      },
      "execution_count": null,
      "outputs": [
        {
          "output_type": "stream",
          "name": "stdout",
          "text": [
            "Elisa\n",
            "23\n",
            "{'name': 'Elisa', 'age': 23, 'city': 'Sydney', 'occupation': 'Student'}\n",
            "Student\n"
          ]
        }
      ]
    },
    {
      "cell_type": "code",
      "source": [
        "for key in person:\n",
        "  print(key)\n",
        "  for key, value in person. items():\n",
        "    print(f\"{key:} {value}\")"
      ],
      "metadata": {
        "colab": {
          "base_uri": "https://localhost:8080/"
        },
        "id": "Xqa7VU8hrBri",
        "outputId": "1e80926b-3836-496a-bbec-45c1bf5e1a34"
      },
      "execution_count": null,
      "outputs": [
        {
          "output_type": "stream",
          "name": "stdout",
          "text": [
            "name\n",
            "name Elisa\n",
            "age 23\n",
            "city Sydney\n",
            "age\n",
            "name Elisa\n",
            "age 23\n",
            "city Sydney\n",
            "city\n",
            "name Elisa\n",
            "age 23\n",
            "city Sydney\n"
          ]
        }
      ]
    },
    {
      "cell_type": "code",
      "source": [],
      "metadata": {
        "id": "ZvAqAHTj-GMS"
      },
      "execution_count": null,
      "outputs": []
    },
    {
      "cell_type": "code",
      "source": [
        "person={\"name\":\"Elisa\",\"age\":23,\"city\":\"Sydney\"}\n",
        "print(\"length of dictionary:\",len(person))\n",
        "print(\"keys:\",person.keys())\n",
        "print(\"values:\",person.values())\n",
        "person={\"name\":\"Elisa\",\"age\":23,\"city\":\"Sydney\"}\n",
        "print(\"length of dictionary:\",len(person))\n",
        "print(\"keys:\",person.keys())\n",
        "print(\"values:\",person.values())\n",
        "print(\"items:\",person.items())\n",
        "print(\"get name:\",person.get(\"name\",\"unknown\"))\n",
        "print(\"get country (not in dict):\",person.get(\"country\",\"unknown\"))\n",
        "print(\"pop city:\",person.pop(\"city\",\"Not found\"))\n",
        "print(\"pop country(not in dict):\",person.pop(\"country\",\"Not found\"))\n",
        "print(\"updated dictionary after pop:\",person)\n",
        "update_infor={\"country\":\"Australia\",\"age\":24}\n",
        "person.update(update_infor)\n",
        "print(\"After update:\",person)\n",
        "print(\"is name in person?\",\"name\" in person)\n",
        "print(\"is salary in person?\",\"salary\" in person)\n",
        "if \"salary\" in person:\n",
        "  del person[\"salary\"]\n",
        "  print(\"salary key deleted\")\n",
        "else:\n",
        "    print(\"salary key not found, so not deleted.\")\n",
        "person={\"name\":\"Elisa\",\"age\":23,\"city\":\"Sydney\"}\n",
        "print(\"length of dictionary:\",len(person))\n",
        "print(\"keys:\",person.keys())\n",
        "print(\"values:\",person.values())\n",
        "person={\"name\":\"Elisa\",\"age\":23,\"city\":\"Sydney\"}\n",
        "print(\"length of dictionary:\",len(person))\n",
        "print(\"keys:\",person.keys())\n",
        "print(\"values:\",person.values())\n",
        "print(\"items:\",person.items())\n",
        "print(\"get name:\",person.get(\"name\",\"unknown\"))\n",
        "print(\"get country (not in dict):\",person.get(\"country\",\"unknown\"))\n",
        "print(\"pop city:\",person.pop(\"city\",\"Not found\"))\n",
        "print(\"pop country(not in dict):\",person.pop(\"country\",\"Not found\"))\n",
        "print(\"updated dictionary after pop:\",person)\n",
        "update_infor={\"country\":\"Australia\",\"age\":24}\n",
        "person.update(update_infor)\n",
        "print(\"After update:\",person)\n",
        "print(\"is name in person?\",\"name\" in person)\n",
        "print(\"is salary in person?\",\"salary\" in person)\n",
        "if \"salary\" in person:\n",
        "  del person[\"salary\"]\n",
        "  print(\"salary key deleted\")\n",
        "else:\n",
        "    print(\"salary key not found, so not deleted.\")\n",
        "    squares={x:x**2 for x in range(1,6)}\n",
        "    print(\"Squares dictionary:\", squares)\n",
        "    people={\"person1\":{\"name\":\"Elisa\",\"age\":24,\"city\":\"Sydney\"}, \"person2\":{\"name\":\"Jordan\",\"age\":25,\"city\":\"Melbourne\"}}\n",
        "    print(\"updated people dictionary:\",people)\n",
        "    print(\"person1 name:\",people[\"person1\"][\"name\"])\n",
        "    print(\"person2 city:\",people[\"person2\"][\"city\"])"
      ],
      "metadata": {
        "colab": {
          "base_uri": "https://localhost:8080/"
        },
        "id": "PBq3NHfH1EeF",
        "outputId": "1f0e3060-be45-48e2-8ce1-7792827f2e79"
      },
      "execution_count": null,
      "outputs": [
        {
          "output_type": "stream",
          "name": "stdout",
          "text": [
            "length of dictionary: 3\n",
            "keys: dict_keys(['name', 'age', 'city'])\n",
            "values: dict_values(['Elisa', 23, 'Sydney'])\n",
            "length of dictionary: 3\n",
            "keys: dict_keys(['name', 'age', 'city'])\n",
            "values: dict_values(['Elisa', 23, 'Sydney'])\n",
            "items: dict_items([('name', 'Elisa'), ('age', 23), ('city', 'Sydney')])\n",
            "get name: Elisa\n",
            "get country (not in dict): unknown\n",
            "pop city: Sydney\n",
            "pop country(not in dict): Not found\n",
            "updated dictionary after pop: {'name': 'Elisa', 'age': 23}\n",
            "After update: {'name': 'Elisa', 'age': 24, 'country': 'Australia'}\n",
            "is name in person? True\n",
            "is salary in person? False\n",
            "salary key not found, so not deleted.\n",
            "length of dictionary: 3\n",
            "keys: dict_keys(['name', 'age', 'city'])\n",
            "values: dict_values(['Elisa', 23, 'Sydney'])\n",
            "length of dictionary: 3\n",
            "keys: dict_keys(['name', 'age', 'city'])\n",
            "values: dict_values(['Elisa', 23, 'Sydney'])\n",
            "items: dict_items([('name', 'Elisa'), ('age', 23), ('city', 'Sydney')])\n",
            "get name: Elisa\n",
            "get country (not in dict): unknown\n",
            "pop city: Sydney\n",
            "pop country(not in dict): Not found\n",
            "updated dictionary after pop: {'name': 'Elisa', 'age': 23}\n",
            "After update: {'name': 'Elisa', 'age': 24, 'country': 'Australia'}\n",
            "is name in person? True\n",
            "is salary in person? False\n",
            "salary key not found, so not deleted.\n",
            "Squares dictionary: {1: 1, 2: 4, 3: 9, 4: 16, 5: 25}\n",
            "updated people dictionary: {'person1': {'name': 'Elisa', 'age': 24, 'city': 'Sydney'}, 'person2': {'name': 'Jordan', 'age': 25, 'city': 'Melbourne'}}\n",
            "person1 name: Elisa\n",
            "person2 city: Melbourne\n"
          ]
        }
      ]
    },
    {
      "cell_type": "code",
      "source": [],
      "metadata": {
        "id": "5dGiXjSEDc00"
      },
      "execution_count": null,
      "outputs": []
    },
    {
      "cell_type": "code",
      "source": [
        "person={\"name\":\"Elisa\",\"age\":23,\"city\":\"Sydney\"}\n",
        "print(\"length of dictionary:\",len(person))\n",
        "print(\"keys:\",person.keys())\n",
        "print(\"values:\",person.values())\n",
        "person={\"name\":\"Elisa\",\"age\":23,\"city\":\"Sydney\"}\n",
        "print(\"length of dictionary:\",len(person))\n",
        "print(\"keys:\",person.keys())\n",
        "print(\"values:\",person.values())\n",
        "print(\"items:\",person.items())\n",
        "print(\"get name:\",person.get(\"name\",\"unknown\"))\n",
        "print(\"get country (not in dict):\",person.get(\"country\",\"unknown\"))\n",
        "print(\"pop city:\",person.pop(\"city\",\"Not found\"))\n",
        "print(\"pop country(not in dict):\",person.pop(\"country\",\"Not found\"))\n",
        "print(\"updated dictionary after pop:\",person)\n",
        "update_infor={\"country\":\"Australia\",\"age\":24}\n",
        "person.update(update_infor)\n",
        "print(\"After update:\",person)\n",
        "print(\"is name in person?\",\"name\" in person)\n",
        "print(\"is salary in person?\",\"salary\" in person)\n",
        "if \"salary\" in person:\n",
        "  del person[\"salary\"]\n",
        "  print(\"salary key deleted\")\n",
        "else:\n",
        "    print(\"salary key not found, so not deleted.\")\n",
        "person={\"name\":\"Elisa\",\"age\":23,\"city\":\"Sydney\"}\n",
        "print(\"length of dictionary:\",len(person))\n",
        "print(\"keys:\",person.keys())\n",
        "print(\"values:\",person.values())\n",
        "person={\"name\":\"Elisa\",\"age\":23,\"city\":\"Sydney\"}\n",
        "print(\"length of dictionary:\",len(person))\n",
        "print(\"keys:\",person.keys())\n",
        "print(\"values:\",person.values())\n",
        "print(\"items:\",person.items())\n",
        "print(\"get name:\",person.get(\"name\",\"unknown\"))\n",
        "print(\"get country (not in dict):\",person.get(\"country\",\"unknown\"))\n",
        "print(\"pop city:\",person.pop(\"city\",\"Not found\"))\n",
        "print(\"pop country(not in dict):\",person.pop(\"country\",\"Not found\"))\n",
        "print(\"updated dictionary after pop:\",person)\n",
        "update_infor={\"country\":\"Australia\",\"age\":24}\n",
        "person.update(update_infor)\n",
        "print(\"After update:\",person)\n",
        "print(\"is name in person?\",\"name\" in person)\n",
        "print(\"is salary in person?\",\"salary\" in person)\n",
        "if \"salary\" in person:\n",
        "  del person[\"salary\"]\n",
        "  print(\"salary key deleted\")\n",
        "else:\n",
        "    print(\"salary key not found, so not deleted.\")\n",
        "    squares={x:x**2 for x in range(1,6)}\n",
        "    print(\"Squares dictionary:\", squares)\n",
        "    people={\"person1\":{\"name\":\"Elisa\",\"age\":24,\"city\":\"Sydney\"}, \"person2\":{\"name\":\"Jordan\",\"age\":25,\"city\":\"Melbourne\"}}\n",
        "    print(\"updated people dictionary:\",people)\n",
        "    print(\"person1 name:\",people[\"person1\"][\"name\"])\n",
        "    print(\"person2 city:\",people[\"person2\"][\"city\"])"
      ],
      "metadata": {
        "colab": {
          "base_uri": "https://localhost:8080/"
        },
        "outputId": "1f0e3060-be45-48e2-8ce1-7792827f2e79",
        "id": "NJgfxJOvEJ2C"
      },
      "execution_count": null,
      "outputs": [
        {
          "output_type": "stream",
          "name": "stdout",
          "text": [
            "length of dictionary: 3\n",
            "keys: dict_keys(['name', 'age', 'city'])\n",
            "values: dict_values(['Elisa', 23, 'Sydney'])\n",
            "length of dictionary: 3\n",
            "keys: dict_keys(['name', 'age', 'city'])\n",
            "values: dict_values(['Elisa', 23, 'Sydney'])\n",
            "items: dict_items([('name', 'Elisa'), ('age', 23), ('city', 'Sydney')])\n",
            "get name: Elisa\n",
            "get country (not in dict): unknown\n",
            "pop city: Sydney\n",
            "pop country(not in dict): Not found\n",
            "updated dictionary after pop: {'name': 'Elisa', 'age': 23}\n",
            "After update: {'name': 'Elisa', 'age': 24, 'country': 'Australia'}\n",
            "is name in person? True\n",
            "is salary in person? False\n",
            "salary key not found, so not deleted.\n",
            "length of dictionary: 3\n",
            "keys: dict_keys(['name', 'age', 'city'])\n",
            "values: dict_values(['Elisa', 23, 'Sydney'])\n",
            "length of dictionary: 3\n",
            "keys: dict_keys(['name', 'age', 'city'])\n",
            "values: dict_values(['Elisa', 23, 'Sydney'])\n",
            "items: dict_items([('name', 'Elisa'), ('age', 23), ('city', 'Sydney')])\n",
            "get name: Elisa\n",
            "get country (not in dict): unknown\n",
            "pop city: Sydney\n",
            "pop country(not in dict): Not found\n",
            "updated dictionary after pop: {'name': 'Elisa', 'age': 23}\n",
            "After update: {'name': 'Elisa', 'age': 24, 'country': 'Australia'}\n",
            "is name in person? True\n",
            "is salary in person? False\n",
            "salary key not found, so not deleted.\n",
            "Squares dictionary: {1: 1, 2: 4, 3: 9, 4: 16, 5: 25}\n",
            "updated people dictionary: {'person1': {'name': 'Elisa', 'age': 24, 'city': 'Sydney'}, 'person2': {'name': 'Jordan', 'age': 25, 'city': 'Melbourne'}}\n",
            "person1 name: Elisa\n",
            "person2 city: Melbourne\n"
          ]
        }
      ]
    },
    {
      "cell_type": "code",
      "source": [
        "people={\"person1\":{\"name\":\"Elisa\",\"age\":24,\"city\":\"Sydney\"}, \"person2\":{\"name\":\"Jordan\",\"age\":25,\"city\":\"Melbourne\"}}\n",
        "people[\"person1\"][\"hobbies\"]=[\"gaming\",\"swimming\"]\n",
        "print(people[\"person1\"])\n",
        "people[\"person1\"].update({\"email\":\"elisa@gmail.com\", \"married\":False})\n",
        "print(people[\"person1\"])\n",
        "for person in people.values():\n",
        "  print(person[\"name\"],\"is\",person[\"age\"],\"years old and lives in\",person[\"city\"])\n"
      ],
      "metadata": {
        "colab": {
          "base_uri": "https://localhost:8080/"
        },
        "id": "kZwVZqdKEqng",
        "outputId": "60362773-f415-4889-883f-2e51e959992f"
      },
      "execution_count": null,
      "outputs": [
        {
          "output_type": "stream",
          "name": "stdout",
          "text": [
            "{'name': 'Elisa', 'age': 24, 'city': 'Sydney', 'hobbies': ['gaming', 'swimming']}\n",
            "{'name': 'Elisa', 'age': 24, 'city': 'Sydney', 'hobbies': ['gaming', 'swimming'], 'email': 'elisa@gmail.com', 'married': False}\n",
            "Elisa is 24 years old and lives in Sydney\n",
            "Jordan is 25 years old and lives in Melbourne\n"
          ]
        }
      ]
    },
    {
      "cell_type": "code",
      "source": [
        "#create the file first\n",
        "with open('data.json','w')as f:\n",
        "  f.write('{\"name\":\"Elisa\",\"age\":23,\"}')\n",
        "  #Reading JSON from a file\n",
        "  import json\n",
        "  #Example JSON file content:{\"name\":\"Elisa\",\"age\",:23}\n",
        "  with open('data.json','r')as file:\n",
        "\n",
        "    print(data['name'])#output:Elisa"
      ],
      "metadata": {
        "colab": {
          "base_uri": "https://localhost:8080/",
          "height": 180
        },
        "id": "CaoDIMkb-Hpn",
        "outputId": "72ab6871-66fd-4446-fed1-106f39d903b6"
      },
      "execution_count": null,
      "outputs": [
        {
          "output_type": "error",
          "ename": "KeyError",
          "evalue": "'name'",
          "traceback": [
            "\u001b[0;31m---------------------------------------------------------------------------\u001b[0m",
            "\u001b[0;31mKeyError\u001b[0m                                  Traceback (most recent call last)",
            "\u001b[0;32m<ipython-input-16-59759af375e1>\u001b[0m in \u001b[0;36m<cell line: 0>\u001b[0;34m()\u001b[0m\n\u001b[1;32m      7\u001b[0m   \u001b[0;32mwith\u001b[0m \u001b[0mopen\u001b[0m\u001b[0;34m(\u001b[0m\u001b[0;34m'data.json'\u001b[0m\u001b[0;34m,\u001b[0m\u001b[0;34m'r'\u001b[0m\u001b[0;34m)\u001b[0m\u001b[0;32mas\u001b[0m \u001b[0mfile\u001b[0m\u001b[0;34m:\u001b[0m\u001b[0;34m\u001b[0m\u001b[0;34m\u001b[0m\u001b[0m\n\u001b[1;32m      8\u001b[0m \u001b[0;34m\u001b[0m\u001b[0m\n\u001b[0;32m----> 9\u001b[0;31m     \u001b[0mprint\u001b[0m\u001b[0;34m(\u001b[0m\u001b[0mdata\u001b[0m\u001b[0;34m[\u001b[0m\u001b[0;34m'name'\u001b[0m\u001b[0;34m]\u001b[0m\u001b[0;34m)\u001b[0m\u001b[0;31m#output:Elisa\u001b[0m\u001b[0;34m\u001b[0m\u001b[0;34m\u001b[0m\u001b[0m\n\u001b[0m",
            "\u001b[0;31mKeyError\u001b[0m: 'name'"
          ]
        }
      ]
    },
    {
      "cell_type": "code",
      "source": [],
      "metadata": {
        "id": "Er1OypOmKV5B"
      },
      "execution_count": null,
      "outputs": []
    },
    {
      "cell_type": "code",
      "source": [],
      "metadata": {
        "id": "LjVoA6ImKXJL"
      },
      "execution_count": null,
      "outputs": []
    },
    {
      "cell_type": "code",
      "source": [],
      "metadata": {
        "id": "YWF0WP5CKaSQ"
      },
      "execution_count": null,
      "outputs": []
    },
    {
      "cell_type": "code",
      "source": [],
      "metadata": {
        "id": "2jK6G9OhKcwa"
      },
      "execution_count": null,
      "outputs": []
    },
    {
      "cell_type": "code",
      "source": [],
      "metadata": {
        "id": "e56WoNCWKf-E"
      },
      "execution_count": null,
      "outputs": []
    },
    {
      "cell_type": "code",
      "source": [
        "#Reading JSON from a string\n",
        "import json\n",
        "json_srting='{\"city\":\"Port Lousi\",\"temperature\":29}'\n",
        "data=json.loads(json_srting)\n",
        "print(data['city'])#Output: Port Lousi\n",
        "\n"
      ],
      "metadata": {
        "id": "8EesonQSA8x_",
        "colab": {
          "base_uri": "https://localhost:8080/"
        },
        "outputId": "4332fd41-bb68-454c-a716-bf1121523476"
      },
      "execution_count": null,
      "outputs": [
        {
          "output_type": "stream",
          "name": "stdout",
          "text": [
            "Port Lousi\n"
          ]
        }
      ]
    },
    {
      "cell_type": "code",
      "source": [],
      "metadata": {
        "id": "zq7Aj9osGRrw"
      },
      "execution_count": null,
      "outputs": []
    },
    {
      "cell_type": "markdown",
      "source": [],
      "metadata": {
        "id": "J3UqY7lkGR9I"
      }
    },
    {
      "cell_type": "markdown",
      "source": [
        "# New Section"
      ],
      "metadata": {
        "id": "Bl92xqF7GgU3"
      }
    },
    {
      "cell_type": "code",
      "source": [
        "#writing JSON to file\n",
        "from google.colab import files\n",
        "#writing JSON to file\n",
        "from google.colab import files\n",
        "import json\n",
        "data={\"name\":\"Bob\",\"age\":30}\n",
        "with open(\"output.json\",\"w\") as file:\n",
        "  json.dump(data,file,indent=4)\n",
        "files.download(\"output.json\")"
      ],
      "metadata": {
        "colab": {
          "base_uri": "https://localhost:8080/",
          "height": 17
        },
        "id": "fOfq96LNCeYt",
        "outputId": "edf453eb-7ee1-43ea-f030-6180b912363c"
      },
      "execution_count": null,
      "outputs": [
        {
          "output_type": "display_data",
          "data": {
            "text/plain": [
              "<IPython.core.display.Javascript object>"
            ],
            "application/javascript": [
              "\n",
              "    async function download(id, filename, size) {\n",
              "      if (!google.colab.kernel.accessAllowed) {\n",
              "        return;\n",
              "      }\n",
              "      const div = document.createElement('div');\n",
              "      const label = document.createElement('label');\n",
              "      label.textContent = `Downloading \"${filename}\": `;\n",
              "      div.appendChild(label);\n",
              "      const progress = document.createElement('progress');\n",
              "      progress.max = size;\n",
              "      div.appendChild(progress);\n",
              "      document.body.appendChild(div);\n",
              "\n",
              "      const buffers = [];\n",
              "      let downloaded = 0;\n",
              "\n",
              "      const channel = await google.colab.kernel.comms.open(id);\n",
              "      // Send a message to notify the kernel that we're ready.\n",
              "      channel.send({})\n",
              "\n",
              "      for await (const message of channel.messages) {\n",
              "        // Send a message to notify the kernel that we're ready.\n",
              "        channel.send({})\n",
              "        if (message.buffers) {\n",
              "          for (const buffer of message.buffers) {\n",
              "            buffers.push(buffer);\n",
              "            downloaded += buffer.byteLength;\n",
              "            progress.value = downloaded;\n",
              "          }\n",
              "        }\n",
              "      }\n",
              "      const blob = new Blob(buffers, {type: 'application/binary'});\n",
              "      const a = document.createElement('a');\n",
              "      a.href = window.URL.createObjectURL(blob);\n",
              "      a.download = filename;\n",
              "      div.appendChild(a);\n",
              "      a.click();\n",
              "      div.remove();\n",
              "    }\n",
              "  "
            ]
          },
          "metadata": {}
        },
        {
          "output_type": "display_data",
          "data": {
            "text/plain": [
              "<IPython.core.display.Javascript object>"
            ],
            "application/javascript": [
              "download(\"download_d150759a-e246-4792-bd8a-960b3513fd30\", \"output.json\", 36)"
            ]
          },
          "metadata": {}
        }
      ]
    },
    {
      "cell_type": "code",
      "source": [
        "from google.colab import userdata\n",
        "userdata.get('secretName')"
      ],
      "metadata": {
        "id": "lIJ5VXx5GyXb"
      },
      "execution_count": null,
      "outputs": []
    },
    {
      "cell_type": "code",
      "source": [
        "#writing JSON from  Python Dictionary to a string\n",
        "import json\n",
        "data={\"language\":\"Python\",\"level\":\"intermediate\"}\n",
        "json_str=json.dumps(data)\n",
        "print(json_str)#output:{'langauage':'Python','level':Intermediate'}\n"
      ],
      "metadata": {
        "colab": {
          "base_uri": "https://localhost:8080/"
        },
        "id": "MpXBcyTkDncy",
        "outputId": "b7dbeebe-1a54-410a-ab4f-25267f2ed523"
      },
      "execution_count": null,
      "outputs": [
        {
          "output_type": "stream",
          "name": "stdout",
          "text": [
            "{\"language\": \"Python\", \"level\": \"intermediate\"}\n"
          ]
        }
      ]
    },
    {
      "cell_type": "code",
      "source": [
        "#Fetching and parsing JSON from a Web API\n",
        "import requests\n",
        "api_key=\"b86d4fa793e098528868363899f004ad\"\n",
        "city='London'\n",
        "url=f'https://api.weatherapi.com/v1/current.json?key={api_key}&q={city}'\n",
        "response=requests.get(url)\n",
        "print(response.status_code)\n",
        "print(response.json())"
      ],
      "metadata": {
        "colab": {
          "base_uri": "https://localhost:8080/"
        },
        "id": "vKFzR9fNE7oe",
        "outputId": "518e275b-a126-420a-9e10-09496cbec49f"
      },
      "execution_count": null,
      "outputs": [
        {
          "output_type": "stream",
          "name": "stdout",
          "text": [
            "403\n",
            "{'error': {'code': 2008, 'message': 'API key has been disabled.'}}\n"
          ]
        }
      ]
    },
    {
      "cell_type": "code",
      "source": [
        "#Rate limiting rules\n",
        "MAX_REQUESTS=5   #Max requests allowed\n",
        "TIME_WINDOW=10  #Time window in seconds\n",
        "#Store timestamps of requests\n",
        "request_log=[]"
      ],
      "metadata": {
        "id": "lGyIsayhKiwm"
      },
      "execution_count": null,
      "outputs": []
    }
  ]
}