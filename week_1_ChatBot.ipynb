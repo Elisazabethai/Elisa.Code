{
  "nbformat": 4,
  "nbformat_minor": 0,
  "metadata": {
    "colab": {
      "private_outputs": true,
      "provenance": [],
      "authorship_tag": "ABX9TyPcA7I95sMrL6Rs3eQaEkKz",
      "include_colab_link": true
    },
    "kernelspec": {
      "name": "python3",
      "display_name": "Python 3"
    },
    "language_info": {
      "name": "python"
    }
  },
  "cells": [
    {
      "cell_type": "markdown",
      "metadata": {
        "id": "view-in-github",
        "colab_type": "text"
      },
      "source": [
        "<a href=\"https://colab.research.google.com/github/Elisazabethai/Elisa.Code/blob/main/week_1_ChatBot.ipynb\" target=\"_parent\"><img src=\"https://colab.research.google.com/assets/colab-badge.svg\" alt=\"Open In Colab\"/></a>"
      ]
    },
    {
      "cell_type": "code",
      "execution_count": null,
      "metadata": {
        "id": "zmPcOIUDmrZV"
      },
      "outputs": [],
      "source": [
        "print(\"Welcome to ChatBot 101!\")\n",
        "print(\"I'm a simple chatbot. Let's chat!\")\n",
        "\n",
        "print(\"\\nYou: Hello!\")\n",
        "print(\"Bot: Hi there! How can I help you today?\")\n",
        "\n",
        "print(\"\\nYou: What's your name?\")\n",
        "print(\"Bot: I'm just a chatbot, but you can call me ChatBot!\")\n",
        "\n",
        "print(\"\\nYou: What can you do?\")\n",
        "print(\"Bot: I can answer simple questions and have a friendly chat!\")\n",
        "\n",
        "print(\"\\nYou: Bye!\")\n",
        "print(\"Bot: Goodbye! Have a great day!\")\n",
        ""
      ]
    }
  ]
}