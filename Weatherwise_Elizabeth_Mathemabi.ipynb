{
  "cells": [
    {
      "cell_type": "markdown",
      "id": "72e78a05",
      "metadata": {
        "id": "72e78a05"
      },
      "source": [
        "# 🌦️ WeatherWise –  Elizabeth Starter Notebook\n",
        "\n",
        "Welcome to your **WeatherWise** project notebook! This scaffold is designed to help you build your weather advisor app using Python, visualisations, and AI-enhanced development.\n",
        "\n",
        "---\n",
        "\n",
        "📄 **Full Assignment Specification**  \n",
        "See [`ASSIGNMENT.md`](ASSIGNMENT.md) or check the LMS for full details.\n",
        "\n",
        "📝 **Quick Refresher**  \n",
        "A one-page summary is available in [`resources/assignment-summary.md`](resources/assignment-summary.md).\n",
        "\n",
        "---\n",
        "\n",
        "🧠 **This Notebook Structure is Optional**  \n",
        "You’re encouraged to reorganise, rename sections, or remove scaffold cells if you prefer — as long as your final version meets the requirements.\n",
        "\n",
        "✅ You may delete this note before submission.\n",
        "\n"
      ]
    },
    {
      "cell_type": "markdown",
      "id": "fa8c7f6c",
      "metadata": {
        "id": "fa8c7f6c"
      },
      "source": [
        "## 🧰 Setup and Imports\n",
        "\n",
        "This section imports commonly used packages and installs any additional tools used in the project.\n",
        "\n",
        "- You may not need all of these unless you're using specific features (e.g. visualisations, advanced prompting).\n",
        "- The notebook assumes the following packages are **pre-installed** in the provided environment or installable via pip:\n",
        "  - `requests`, `matplotlib`, `pyinputplus`\n",
        "  - `fetch-my-weather` (for accessing weather data easily)\n",
        "  - `hands-on-ai` (for AI logging, comparisons, or prompting tools)\n",
        "\n",
        "If you're running this notebook in **Google Colab**, uncomment the following lines to install the required packages.\n"
      ]
    },
    {
      "cell_type": "markdown",
      "id": "KJwhXkrabRjK",
      "metadata": {
        "id": "KJwhXkrabRjK"
      },
      "source": [
        "Setup and Configuration"
      ]
    },
    {
      "cell_type": "code",
      "execution_count": null,
      "id": "DpC_jDdWbnrZ",
      "metadata": {
        "id": "DpC_jDdWbnrZ"
      },
      "outputs": [],
      "source": [
        "\n",
        "import requests #This is how we fetch live weather dat from the internet(wtt.in API).\n",
        "import matplotlib.pyplot as plt #For drawing charts like temperature and rain bar graphs\n",
        "import datetime #Useful for working with date objects (not used here much, but included for future upgrades).\n",
        "import sys #For system-level stuff (Like exiting the program cleanly)"
      ]
    },
    {
      "cell_type": "markdown",
      "id": "f736ade3",
      "metadata": {
        "id": "f736ade3"
      },
      "source": [
        "## 🌤️ Weather Data Functions"
      ]
    },
    {
      "cell_type": "markdown",
      "id": "XhSYNwAabLyQ",
      "metadata": {
        "id": "XhSYNwAabLyQ"
      },
      "source": []
    },
    {
      "cell_type": "code",
      "execution_count": null,
      "id": "jYKAXpXdYAqZ",
      "metadata": {
        "id": "jYKAXpXdYAqZ"
      },
      "outputs": [],
      "source": [
        "#Takes a location(e.g, \"Moka\") and grabs weather info from wttr.in inJSON format.\n",
        "#Handles any errors (like on internet, wrong location, or API errors)and returns None if something goes wrong.\n",
        "#This ensures the app doesn't crash due to failed network calls\n",
        "def get_weather_data(location, forecast_days=5):\n",
        "    url = f\"https://wttr.in/{location}?format=j1\"\n",
        "    try:\n",
        "        response = requests.get(url)\n",
        "        response.raise_for_status()\n",
        "        data = response.json()\n",
        "        return data\n",
        "    except Exception as e:\n",
        "        print(f\"Error fetching data: {e}\")\n",
        "        return None"
      ]
    },
    {
      "cell_type": "markdown",
      "id": "8a744fdc",
      "metadata": {
        "id": "8a744fdc"
      },
      "source": [
        "## 📊 Visualisation Functions"
      ]
    },
    {
      "cell_type": "code",
      "execution_count": null,
      "id": "pD6jggM0Z275",
      "metadata": {
        "id": "pD6jggM0Z275"
      },
      "outputs": [],
      "source": [
        "#Extracts max and min temperatures over severall days.\n",
        "#Plots them on line graph with markers to show temperature trends.\n",
        "def create_temperature_visualisation(weather_data, output_type='display'):\n",
        "    dates = [day[\"date\"] for day in weather_data[\"weather\"]]\n",
        "    max_temps = [int(day[\"maxtempC\"]) for day in weather_data[\"weather\"]]\n",
        "    min_temps = [int(day[\"mintempC\"]) for day in weather_data[\"weather\"]]\n",
        "\n",
        "    plt.figure(figsize=(10,5))\n",
        "    plt.plot(dates, max_temps, label='Max Temp (°C)', marker='o')\n",
        "    plt.plot(dates, min_temps, label='Min Temp (°C)', marker='x')\n",
        "    plt.title(\"🌡️ Temperature Forecast\")\n",
        "    plt.xlabel(\"Date\")\n",
        "    plt.ylabel(\"Temperature (°C)\")\n",
        "    plt.legend()\n",
        "    plt.grid(True)\n",
        "\n",
        "    if output_type == 'display':\n",
        "        plt.show()\n",
        "    else:\n",
        "        return plt\n",
        "#Extracts the chance of rain for each day\n",
        "#Display it as a bar chart (e.g, 60% chance of rain on Wednesday).\n",
        "def create_precipitation_visualisation(weather_data, output_type='display'):\n",
        "    dates = [day[\"date\"] for day in weather_data[\"weather\"]]\n",
        "    rain_chances = [int(day[\"hourly\"][0][\"chanceofrain\"]) for day in weather_data[\"weather\"]]\n",
        "\n",
        "    plt.figure(figsize=(10,5))\n",
        "    plt.bar(dates, rain_chances, color='skyblue')\n",
        "    plt.title(\"☔ Precipitation Forecast\")\n",
        "    plt.xlabel(\"Date\")\n",
        "    plt.ylabel(\"Chance of Rain (%)\")\n",
        "    plt.grid(True)\n",
        "\n",
        "    if output_type == 'display':\n",
        "        plt.show()\n",
        "    else:\n",
        "        return plt"
      ]
    },
    {
      "cell_type": "markdown",
      "id": "9f95d160",
      "metadata": {
        "id": "9f95d160"
      },
      "source": [
        "## 🤖 Natural Language Processing"
      ]
    },
    {
      "cell_type": "code",
      "execution_count": null,
      "id": "sKgicXUAZAPC",
      "metadata": {
        "id": "sKgicXUAZAPC"
      },
      "outputs": [],
      "source": [
        "#Analyses a plain English question(e.g, \"Will it rain this week?\").\n",
        "#Converts it into structured dat:location, number of days, and the attribute being asked about(like\"temperature\" or\"precipitation\").\n",
        "def parse_weather_question(question):\n",
        "    question = question.lower()\n",
        "    parsed = {\n",
        "        \"location\": \"Moka\",  # default\n",
        "        \"days\": 3,\n",
        "        \"attribute\": \"temperature\"\n",
        "    }\n",
        "    if \"rain\" in question or \"precipitation\" in question:\n",
        "        parsed[\"attribute\"] = \"precipitation\"\n",
        "    if \"today\" in question:\n",
        "        parsed[\"days\"] = 1\n",
        "    elif \"week\" in question or \"5 days\" in question:\n",
        "        parsed[\"days\"] = 5\n",
        "    return parsed\n",
        "#Takes the structured dat from the parser and the ral weather data.\n",
        "#Generates a friendly, reliable answer based on what was asked(e.g, a 3-day forecast for rainfall or temperatures).\n",
        "\n",
        "def generate_weather_response(parsed_question, weather_data):\n",
        "    attr = parsed_question[\"attribute\"]\n",
        "    days = parsed_question[\"days\"]\n",
        "    location = parsed_question[\"location\"]\n",
        "\n",
        "    response = f\"Here is the {attr} forecast for {location} over {days} day(s):\\n\"\n",
        "\n",
        "    for day in range(days):\n",
        "        date = weather_data[\"weather\"][day][\"date\"]\n",
        "        if attr == \"temperature\":\n",
        "            max_temp = weather_data[\"weather\"][day][\"maxtempC\"]\n",
        "            min_temp = weather_data[\"weather\"][day][\"mintempC\"]\n",
        "            response += f\"📅 {date}: Max {max_temp}°C / Min {min_temp}°C\\n\"\n",
        "        elif attr == \"precipitation\":\n",
        "            chance_of_rain = weather_data[\"weather\"][day][\"hourly\"][0][\"chanceofrain\"]\n",
        "            response += f\"📅 {date}: Chance of rain: {chance_of_rain}%\\n\"\n",
        "    return response"
      ]
    },
    {
      "cell_type": "markdown",
      "id": "0d85225e",
      "metadata": {
        "id": "0d85225e"
      },
      "source": [
        "## 🧭 User Interface"
      ]
    },
    {
      "cell_type": "code",
      "execution_count": null,
      "id": "qACbZrG4ZSy5",
      "metadata": {
        "id": "qACbZrG4ZSy5"
      },
      "outputs": [],
      "source": [
        "# 🧑🏽‍💻 5. User Interface\n",
        "#Welcomes the user.\n",
        "#Prompts for location\n",
        "#Display a numbered menu with options: ask a weather question, view charts, or exit.\n",
        "#Calls the appropriate funtion based on the user's choice.\n",
        "def menu():\n",
        "    print(\"=== 🌦️ Welcome to WeatherWise 🌦️ ===\")\n",
        "    location = pyip.inputStr(prompt=\"Enter a location: \")\n",
        "    data = get_weather_data(location)\n",
        "\n",
        "    if not data:\n",
        "        print(\"Could not fetch weather data. Exiting.\")\n",
        "        return\n",
        "\n",
        "    while True:\n",
        "        print(\"\\nMenu:\")\n",
        "        print(\"1. Ask a weather question (NLP)\")\n",
        "        print(\"2. View temperature visualisation\")\n",
        "        print(\"3. View precipitation visualisation\")\n",
        "        print(\"4. Exit\")\n",
        "\n",
        "        choice = pyip.inputMenu(['1', '2', '3', '4'], numbered=False)\n",
        "\n",
        "        if choice == '1':\n",
        "            question = pyip.inputStr(\"Ask a weather question: \")\n",
        "            parsed = parse_weather_question(question)\n",
        "            parsed[\"location\"] = location\n",
        "            print(generate_weather_response(parsed, data))\n",
        "\n",
        "        elif choice == '2':\n",
        "            create_temperature_visualisation(data)\n",
        "\n",
        "        elif choice == '3':\n",
        "            create_precipitation_visualisation(data)\n",
        "\n",
        "        elif choice == '4':\n",
        "            print(\"Thanks for using WeatherWise 🌈!\")\n",
        "            break\n"
      ]
    },
    {
      "cell_type": "markdown",
      "id": "d643a53c",
      "metadata": {
        "id": "d643a53c"
      },
      "source": [
        "## 🧩 Main Application Logic"
      ]
    },
    {
      "cell_type": "code",
      "execution_count": null,
      "id": "2wHjOCNdAIy_",
      "metadata": {
        "colab": {
          "base_uri": "https://localhost:8080/"
        },
        "id": "2wHjOCNdAIy_",
        "outputId": "9c0d8669-8287-4370-9391-aaf67f3ab1a6"
      },
      "outputs": [
        {
          "name": "stdout",
          "output_type": "stream",
          "text": [
            "Collecting pyinputplus\n",
            "  Downloading PyInputPlus-0.2.12.tar.gz (20 kB)\n",
            "  Installing build dependencies ... \u001b[?25l\u001b[?25hdone\n",
            "  Getting requirements to build wheel ... \u001b[?25l\u001b[?25hdone\n",
            "  Preparing metadata (pyproject.toml) ... \u001b[?25l\u001b[?25hdone\n",
            "Collecting pysimplevalidate>=0.2.7 (from pyinputplus)\n",
            "  Downloading PySimpleValidate-0.2.12.tar.gz (22 kB)\n",
            "  Installing build dependencies ... \u001b[?25l\u001b[?25hdone\n",
            "  Getting requirements to build wheel ... \u001b[?25l\u001b[?25hdone\n",
            "  Preparing metadata (pyproject.toml) ... \u001b[?25l\u001b[?25hdone\n",
            "Collecting stdiomask>=0.0.3 (from pyinputplus)\n",
            "  Downloading stdiomask-0.0.6.tar.gz (3.6 kB)\n",
            "  Installing build dependencies ... \u001b[?25l\u001b[?25hdone\n",
            "  Getting requirements to build wheel ... \u001b[?25l\u001b[?25hdone\n",
            "  Preparing metadata (pyproject.toml) ... \u001b[?25l\u001b[?25hdone\n",
            "Building wheels for collected packages: pyinputplus, pysimplevalidate, stdiomask\n",
            "  Building wheel for pyinputplus (pyproject.toml) ... \u001b[?25l\u001b[?25hdone\n",
            "  Created wheel for pyinputplus: filename=pyinputplus-0.2.12-py3-none-any.whl size=11348 sha256=6aa45b5d9205ccaf506d43651cd04c981f39eeba9611eac208bf6ab1a8a72105\n",
            "  Stored in directory: /root/.cache/pip/wheels/a3/6b/89/3bec14288af8e0729d088fb41a785e583d49e772f2529c7676\n",
            "  Building wheel for pysimplevalidate (pyproject.toml) ... \u001b[?25l\u001b[?25hdone\n",
            "  Created wheel for pysimplevalidate: filename=pysimplevalidate-0.2.12-py3-none-any.whl size=16226 sha256=aa94260e8b4263d75419104f5a8665d8c37b9d524f398b6d59db97761902a321\n",
            "  Stored in directory: /root/.cache/pip/wheels/fc/40/7a/4d3b2dc2e80b4b3bbda89eec94fcefd6c8bd1101cc7bb89554\n",
            "  Building wheel for stdiomask (pyproject.toml) ... \u001b[?25l\u001b[?25hdone\n",
            "  Created wheel for stdiomask: filename=stdiomask-0.0.6-py3-none-any.whl size=3356 sha256=b7d34ac1fb5f6c95ba19239a2f98b6c9f6501ca52bfe15f06a709571860f2454\n",
            "  Stored in directory: /root/.cache/pip/wheels/19/0c/90/5ee0da7cf06ff7e233f273063797785d5eabf0ab9f04220866\n",
            "Successfully built pyinputplus pysimplevalidate stdiomask\n",
            "Installing collected packages: stdiomask, pysimplevalidate, pyinputplus\n",
            "Successfully installed pyinputplus-0.2.12 pysimplevalidate-0.2.12 stdiomask-0.0.6\n"
          ]
        }
      ],
      "source": [
        "!pip install pyinputplus"
      ]
    },
    {
      "cell_type": "code",
      "execution_count": null,
      "id": "btDZmuhWFDZW",
      "metadata": {
        "colab": {
          "background_save": true,
          "base_uri": "https://localhost:8080/",
          "height": 809
        },
        "id": "btDZmuhWFDZW",
        "outputId": "bac0ce8f-01a8-4066-8b13-81aecc99dfd9"
      },
      "outputs": [
        {
          "metadata": {
            "tags": null
          },
          "name": "stdout",
          "output_type": "stream",
          "text": [
            "\n",
            "========================================\n",
            "🔥 Welcome to WeatherWise 🌈 (Offline Mode) 🔥\n",
            "========================================\n",
            "Enter your city (any input works): Using mock weather data for 'Moka'.\n",
            "\n",
            "Please select one of the following:\n",
            "1. Ask a weather question\n",
            "2. View temperature chart\n",
            "3. View rain chart\n",
            "4. Exit\n"
          ]
        },
        {
          "metadata": {
            "tags": null
          },
          "name": "stderr",
          "output_type": "stream",
          "text": [
            "<ipython-input-11-f15d9179e1fd>:47: UserWarning: Glyph 127777 (\\N{THERMOMETER}) missing from font(s) DejaVu Sans.\n",
            "  plt.tight_layout()\n",
            "/usr/local/lib/python3.11/dist-packages/IPython/core/pylabtools.py:151: UserWarning: Glyph 127777 (\\N{THERMOMETER}) missing from font(s) DejaVu Sans.\n",
            "  fig.canvas.print_figure(bytes_io, **kw)\n"
          ]
        },
        {
          "data": {
            "image/png": "[encoded data removed]",
            "text/plain": [
              "<Figure size 1000x500 with 1 Axes>"
            ]
          },
          "metadata": {},
          "output_type": "display_data"
        },
        {
          "metadata": {
            "tags": null
          },
          "name": "stdout",
          "output_type": "stream",
          "text": [
            "Please select one of the following:\n",
            "1. Ask a weather question\n",
            "2. View temperature chart\n",
            "3. View rain chart\n",
            "4. Exit\n"
          ]
        }
      ],
      "source": [
        "import matplotlib.pyplot as plt\n",
        "import datetime\n",
        "import pyinputplus as pyip\n",
        "\n",
        "# 🌞 MOCK WEATHER DATA 🌞\n",
        "mock_weather_data = {\n",
        "    'list': [\n",
        "        {\n",
        "            'dt': 1684291200,\n",
        "            'main': {'temp': 22.5},\n",
        "            'weather': [{'description': 'clear sky'}],\n",
        "            'wind': {'speed': 3.5},\n",
        "            'rain': {'3h': 0}\n",
        "        },\n",
        "        {\n",
        "            'dt': 1684294800,\n",
        "            'main': {'temp': 23.0},\n",
        "            'weather': [{'description': 'few clouds'}],\n",
        "            'wind': {'speed': 3.8},\n",
        "            'rain': {'3h': 0.1}\n",
        "        },\n",
        "        {\n",
        "            'dt': 1684298400,\n",
        "            'main': {'temp': 21.8},\n",
        "            'weather': [{'description': 'light rain'}],\n",
        "            'wind': {'speed': 4.2},\n",
        "            'rain': {'3h': 0.5}\n",
        "        },\n",
        "    ]\n",
        "}\n",
        "\n",
        "# 📈 VISUALISATION FUNCTIONS 📈\n",
        "def create_temperature_visualisation(weather_data):\n",
        "    timestamps = []\n",
        "    temps = []\n",
        "    for entry in weather_data['list']:\n",
        "        timestamps.append(datetime.datetime.fromtimestamp(entry['dt']).strftime('%b %d, %I:%M %p'))\n",
        "        temps.append(entry['main']['temp'])\n",
        "\n",
        "    plt.figure(figsize=(10,5))\n",
        "    plt.plot(timestamps, temps, color='hotpink', marker='o')\n",
        "    plt.title(\"🌡️ Temperature Forecast (Mock Data)\")\n",
        "    plt.xlabel(\"Date & Time\")\n",
        "    plt.ylabel(\"Temperature (°C)\")\n",
        "    plt.xticks(rotation=45)\n",
        "    plt.grid(True)\n",
        "    plt.tight_layout()\n",
        "    plt.show()\n",
        "\n",
        "def create_precipitation_visualisation(weather_data):\n",
        "    timestamps = []\n",
        "    rain_chances = []\n",
        "    for entry in weather_data['list']:\n",
        "        timestamps.append(datetime.datetime.fromtimestamp(entry['dt']).strftime('%b %d, %I:%M %p'))\n",
        "        rain = entry.get('rain', {}).get('3h', 0)\n",
        "        rain_chances.append(rain)\n",
        "\n",
        "    plt.figure(figsize=(10,5))\n",
        "    plt.bar(timestamps, rain_chances, color='skyblue')\n",
        "    for i, val in enumerate(rain_chances):\n",
        "        plt.text(i, val + 0.05, str(val), ha='center', va='bottom', fontsize=8)\n",
        "    plt.title(\"🌧️ Rain Volume Forecast (Mock Data)\")\n",
        "    plt.xlabel(\"Date & Time\")\n",
        "    plt.ylabel(\"Rain Volume (mm/3h)\")\n",
        "    plt.xticks(rotation=45)\n",
        "    plt.tight_layout()\n",
        "    plt.show()\n",
        "\n",
        "# 🧠 NLP FUNCTIONS 🧠\n",
        "def parse_weather_question(question):\n",
        "    question = question.lower()\n",
        "    rain_keywords = {\"rain\", \"precipitation\", \"wet\"}\n",
        "    temp_keywords = {\"temperature\", \"hot\", \"cold\", \"warm\", \"chilly\"}\n",
        "    wind_keywords = {\"wind\", \"breeze\", \"gust\"}\n",
        "\n",
        "    if any(word in question for word in rain_keywords):\n",
        "        return {\"attribute\": \"rain\"}\n",
        "    elif any(word in question for word in temp_keywords):\n",
        "        return {\"attribute\": \"temperature\"}\n",
        "    elif any(word in question for word in wind_keywords):\n",
        "        return {\"attribute\": \"wind\"}\n",
        "    else:\n",
        "        return {\"attribute\": \"general\"}\n",
        "\n",
        "def generate_weather_response(parsed_question, weather_data):\n",
        "    current = weather_data['list'][0]\n",
        "    desc = current['weather'][0]['description']\n",
        "    temp = current['main']['temp']\n",
        "    wind = current['wind']['speed']\n",
        "    rain = current.get('rain', {}).get('3h', 0)\n",
        "\n",
        "    attr = parsed_question[\"attribute\"]\n",
        "    if attr == \"rain\":\n",
        "        return f\"Rainfall over the next 3 hours: {rain} mm ☔\"\n",
        "    elif attr == \"temperature\":\n",
        "        return f\"It's currently {temp}°C with {desc} 🌤️\"\n",
        "    elif attr == \"wind\":\n",
        "        return f\"Wind speed is {wind} m/s 💨\"\n",
        "    else:\n",
        "        return f\"The weather is {desc} with a temp of {temp}°C and wind speed of {wind} m/s.\"\n",
        "\n",
        "# 🧭 USER INTERFACE 🧭\n",
        "def weather_menu():\n",
        "    print(\"\\n\" + \"=\"*40)\n",
        "    print(\"🔥 Welcome to WeatherWise 🌈 (Offline Mode) 🔥\")\n",
        "    print(\"=\"*40)\n",
        "\n",
        "    location = pyip.inputStr(\"Enter your city (any input works): \")\n",
        "    print(f\"Using mock weather data for '{location}'.\\n\")\n",
        "\n",
        "    while True:\n",
        "        choice = pyip.inputMenu([\n",
        "            \"Ask a weather question\",\n",
        "            \"View temperature chart\",\n",
        "            \"View rain chart\",\n",
        "            \"Exit\"\n",
        "        ], numbered=True)\n",
        "\n",
        "        if choice == \"Ask a weather question\":\n",
        "            while True:\n",
        "                q = pyip.inputStr(\"Ask your question (or type 'back' to return to the menu): \")\n",
        "                if q.lower() == 'back':\n",
        "                    break\n",
        "                parsed = parse_weather_question(q)\n",
        "                response = generate_weather_response(parsed, mock_weather_data)\n",
        "                print(f\"\\n🤖 WeatherBot: {response}\")\n",
        "\n",
        "        elif choice == \"View temperature chart\":\n",
        "            create_temperature_visualisation(mock_weather_data)\n",
        "\n",
        "        elif choice == \"View rain chart\":\n",
        "            create_precipitation_visualisation(mock_weather_data)\n",
        "\n",
        "        else:\n",
        "            print(\"\\n✨ Stay weather-wise, stay fly! Bye Elisa 💫\")\n",
        "            break\n",
        "\n",
        "# 🏁 MAIN EXECUTION 🏁\n",
        "if __name__ == \"__main__\":\n",
        "    weather_menu()\n"
      ]
    },
    {
      "cell_type": "markdown",
      "id": "fde44479",
      "metadata": {
        "id": "fde44479"
      },
      "source": [
        "## 🧪 Testing and Examples"
      ]
    },
    {
      "cell_type": "code",
      "execution_count": null,
      "id": "4e573901",
      "metadata": {
        "id": "4e573901"
      },
      "outputs": [],
      "source": [
        "# Include sample input/output for each function"
      ]
    },
    {
      "cell_type": "code",
      "execution_count": null,
      "id": "2aLNWIghOtfO",
      "metadata": {
        "colab": {
          "base_uri": "https://localhost:8080/"
        },
        "id": "2aLNWIghOtfO",
        "outputId": "1f26d51f-9182-4fa6-f387-8fa4cf510181"
      },
      "outputs": [
        {
          "name": "stdout",
          "output_type": "stream",
          "text": [
            "TestResults(failed=0, attempted=2)\n"
          ]
        }
      ],
      "source": [
        "# 📦 SETUP AND CONFIGURATION\n",
        "# This part loads your API key securely and sets the base URL for weather forecasts.\n",
        "\n",
        "import os\n",
        "import doctest\n",
        "\n",
        "def get_api_key():\n",
        "    \"\"\"\n",
        "    Returns a fake API key if set in environment; otherwise returns None.\n",
        "\n",
        "    >>> os.environ[\"OPENWEATHER_API_KEY\"] = \"testkey123\"\n",
        "    >>> get_api_key()\n",
        "    'testkey123'\n",
        "    \"\"\"\n",
        "    return os.environ.get(\"OPENWEATHER_API_KEY\")\n",
        "\n",
        "# Run the test cases (this is like what you did for is_even)\n",
        "if __name__ == \"__main__\":\n",
        "    print(doctest.testmod())\n"
      ]
    },
    {
      "cell_type": "markdown",
      "id": "hXSi_5DmXVaU",
      "metadata": {
        "id": "hXSi_5DmXVaU"
      },
      "source": [
        "Run Unittest\n"
      ]
    },
    {
      "cell_type": "code",
      "execution_count": null,
      "id": "EEcO5v9NWO6n",
      "metadata": {
        "colab": {
          "base_uri": "https://localhost:8080/"
        },
        "id": "EEcO5v9NWO6n",
        "outputId": "e5ccdac8-528d-438d-c7a0-746671234a1c"
      },
      "outputs": [
        {
          "name": "stderr",
          "output_type": "stream",
          "text": [
            "test_invalid_location (__main__.TestWeatherDataFunctions.test_invalid_location)\n",
            "Should return dict with error for invalid location ... ERROR\n",
            "test_valid_location_fake_key (__main__.TestWeatherDataFunctions.test_valid_location_fake_key)\n",
            "Should still return a dict or an error structure if fake key used ... ERROR\n",
            "\n",
            "======================================================================\n",
            "ERROR: test_invalid_location (__main__.TestWeatherDataFunctions.test_invalid_location)\n",
            "Should return dict with error for invalid location\n",
            "----------------------------------------------------------------------\n",
            "Traceback (most recent call last):\n",
            "  File \"<ipython-input-3-95797e037fab>\", line 12, in test_invalid_location\n",
            "    os.environ[\"OPENWEATHER_API_KEY\"] = \"fakekey\"\n",
            "    ^^\n",
            "NameError: name 'os' is not defined\n",
            "\n",
            "======================================================================\n",
            "ERROR: test_valid_location_fake_key (__main__.TestWeatherDataFunctions.test_valid_location_fake_key)\n",
            "Should still return a dict or an error structure if fake key used\n",
            "----------------------------------------------------------------------\n",
            "Traceback (most recent call last):\n",
            "  File \"<ipython-input-3-95797e037fab>\", line 6, in test_valid_location_fake_key\n",
            "    os.environ[\"OPENWEATHER_API_KEY\"] = \"fakekey\"\n",
            "    ^^\n",
            "NameError: name 'os' is not defined\n",
            "\n",
            "----------------------------------------------------------------------\n",
            "Ran 2 tests in 0.005s\n",
            "\n",
            "FAILED (errors=2)\n"
          ]
        },
        {
          "data": {
            "text/plain": [
              "<unittest.main.TestProgram at 0x7e259b34ed10>"
            ]
          },
          "execution_count": 3,
          "metadata": {},
          "output_type": "execute_result"
        }
      ],
      "source": [
        "import unittest\n",
        "\n",
        "class TestWeatherDataFunctions(unittest.TestCase):\n",
        "    def test_valid_location_fake_key(self):\n",
        "        \"\"\"Should still return a dict or an error structure if fake key used\"\"\"\n",
        "        os.environ[\"OPENWEATHER_API_KEY\"] = \"fakekey\"\n",
        "        data = get_weather_data(\"Moka\")\n",
        "        self.assertIsInstance(data, dict)\n",
        "\n",
        "    def test_invalid_location(self):\n",
        "        \"\"\"Should return dict with error for invalid location\"\"\"\n",
        "        os.environ[\"OPENWEATHER_API_KEY\"] = \"fakekey\"\n",
        "        data = get_weather_data(\"InvalidCity123\")\n",
        "        self.assertIsInstance(data, dict)\n",
        "\n",
        "unittest.main(argv=[''], verbosity=2, exit=False)\n"
      ]
    },
    {
      "cell_type": "code",
      "execution_count": null,
      "id": "2LyFh3EKWRqn",
      "metadata": {
        "colab": {
          "base_uri": "https://localhost:8080/",
          "height": 505
        },
        "id": "2LyFh3EKWRqn",
        "outputId": "da1183a5-9801-4b9a-ad28-17bcfac545f5"
      },
      "outputs": [
        {
          "name": "stdout",
          "output_type": "stream",
          "text": [
            "All pytest-style tests passed.\n"
          ]
        },
        {
          "data": {
            "image/png": "[encoded data removed]",
            "text/plain": [
              "<Figure size 1000x500 with 1 Axes>"
            ]
          },
          "metadata": {},
          "output_type": "display_data"
        }
      ],
      "source": [
        "# prompt: ### ✅ **4. Simulate pytest-style Tests**\n",
        "\n",
        "import matplotlib.pyplot as plt\n",
        "class TestVisualisationFunctions(unittest.TestCase):\n",
        "    def test_create_temperature_visualisation(self):\n",
        "        \"\"\"Should return a matplotlib figure object\"\"\"\n",
        "        fig = create_temperature_visualisation(mock_weather_data, output_type='return')\n",
        "        self.assertIsInstance(fig, plt.Figure)\n",
        "        plt.close(fig) # Close the figure to prevent it from displaying during tests\n",
        "\n",
        "    def test_create_precipitation_visualisation(self):\n",
        "        \"\"\"Should return a matplotlib figure object\"\"\"\n",
        "        fig = create_precipitation_visualisation(mock_weather_data, output_type='return')\n",
        "        self.assertIsInstance(fig, plt.Figure)\n",
        "        plt.close(fig) # Close the figure to prevent it from displaying during tests\n",
        "\n",
        "class TestNLPFunctions(unittest.TestCase):\n",
        "    def test_parse_weather_question_rain(self):\n",
        "        \"\"\"Should parse questions about rain\"\"\"\n",
        "        self.assertEqual(parse_weather_question(\"Will it rain today?\"), {\"attribute\": \"rain\"})\n",
        "        self.assertEqual(parse_weather_question(\"Any chance of precipitation?\"), {\"attribute\": \"rain\"})\n",
        "\n",
        "    def test_parse_weather_question_temp(self):\n",
        "        \"\"\"Should parse questions about temperature\"\"\"\n",
        "        self.assertEqual(parse_weather_question(\"How hot is it?\"), {\"attribute\": \"temperature\"})\n",
        "        self.assertEqual(parse_weather_question(\"What's the temperature like?\"), {\"attribute\": \"temperature\"})\n",
        "\n",
        "    def test_parse_weather_question_wind(self):\n",
        "        \"\"\"Should parse questions about wind\"\"\"\n",
        "        self.assertEqual(parse_weather_question(\"Is it windy?\"), {\"attribute\": \"wind\"})\n",
        "        self.assertEqual(parse_weather_question(\"What's the wind speed?\"), {\"attribute\": \"wind\"})\n",
        "\n",
        "    def test_parse_weather_question_general(self):\n",
        "        \"\"\"Should default to general for unknown questions\"\"\"\n",
        "        self.assertEqual(parse_weather_question(\"How is the weather?\"), {\"attribute\": \"general\"})\n",
        "        self.assertEqual(parse_weather_question(\"Tell me about the forecast\"), {\"attribute\": \"general\"})\n",
        "\n",
        "    def test_generate_weather_response_rain(self):\n",
        "        \"\"\"Should generate response for rain\"\"\"\n",
        "        parsed = {\"attribute\": \"rain\"}\n",
        "        response = generate_weather_response(parsed, mock_weather_data)\n",
        "        self.assertIn(\"Rainfall\", response)\n",
        "\n",
        "    def test_generate_weather_response_temperature(self):\n",
        "        \"\"\"Should generate response for temperature\"\"\"\n",
        "        parsed = {\"attribute\": \"temperature\"}\n",
        "        response = generate_weather_response(parsed, mock_weather_data)\n",
        "        self.assertIn(\"currently\", response)\n",
        "        self.assertIn(\"°C\", response)\n",
        "\n",
        "    def test_generate_weather_response_wind(self):\n",
        "        \"\"\"Should generate response for wind\"\"\"\n",
        "        parsed = {\"attribute\": \"wind\"}\n",
        "        response = generate_weather_response(parsed, mock_weather_data)\n",
        "        self.assertIn(\"Wind speed\", response)\n",
        "        self.assertIn(\"m/s\", response)\n",
        "\n",
        "    def test_generate_weather_response_general(self):\n",
        "        \"\"\"Should generate general response\"\"\"\n",
        "        parsed = {\"attribute\": \"general\"}\n",
        "        response = generate_weather_response(parsed, mock_weather_data)\n",
        "        self.assertIn(\"weather is\", response)\n",
        "        self.assertIn(\"°C\", response)\n",
        "        self.assertIn(\"m/s\", response)\n",
        "\n",
        "# Run Unittest\n",
        "unittest.main(argv=[''], verbosity=2, exit=False)"
      ]
    },
    {
      "cell_type": "markdown",
      "id": "d2885880",
      "metadata": {
        "id": "d2885880"
      },
      "source": [
        "## 🗂️ AI Prompting Log (Optional)\n",
        "Add markdown cells here summarising prompts used or link to AI conversations in the `ai-conversations/` folder."
      ]
    }
  ],
  "metadata": {
    "colab": {
      "provenance": []
    },
    "kernelspec": {
      "display_name": "Python 3",
      "name": "python3"
    },
    "language_info": {
      "name": "python"
    }
  },
  "nbformat": 4,
  "nbformat_minor": 5
}